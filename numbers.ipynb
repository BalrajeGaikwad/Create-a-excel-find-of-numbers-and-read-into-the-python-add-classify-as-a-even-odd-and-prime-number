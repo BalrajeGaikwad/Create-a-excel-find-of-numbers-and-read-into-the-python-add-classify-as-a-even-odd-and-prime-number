{
  "cells": [
    {
      "cell_type": "code",
      "execution_count": 1,
      "metadata": {
        "id": "tVx9k0JbDigQ"
      },
      "outputs": [],
      "source": [
        "import pandas as pd\n",
        "import numpy as np"
      ]
    },
    {
      "cell_type": "code",
      "execution_count": 2,
      "metadata": {
        "id": "-DO6R9cRDqX-"
      },
      "outputs": [],
      "source": [
        "data=pd.read_excel(\"numbers.xlsx\")"
      ]
    },
    {
      "cell_type": "code",
      "execution_count": 5,
      "metadata": {
        "colab": {
          "base_uri": "https://localhost:8080/",
          "height": 398
        },
        "id": "XL4RiZIrEN3j",
        "outputId": "0a4ae68e-b4ef-4852-eb35-9dbafdbcf53b"
      },
      "outputs": [
        {
          "data": {
            "text/html": [
              "<div>\n",
              "<style scoped>\n",
              "    .dataframe tbody tr th:only-of-type {\n",
              "        vertical-align: middle;\n",
              "    }\n",
              "\n",
              "    .dataframe tbody tr th {\n",
              "        vertical-align: top;\n",
              "    }\n",
              "\n",
              "    .dataframe thead th {\n",
              "        text-align: right;\n",
              "    }\n",
              "</style>\n",
              "<table border=\"1\" class=\"dataframe\">\n",
              "  <thead>\n",
              "    <tr style=\"text-align: right;\">\n",
              "      <th></th>\n",
              "      <th>Numbers</th>\n",
              "    </tr>\n",
              "  </thead>\n",
              "  <tbody>\n",
              "    <tr>\n",
              "      <th>0</th>\n",
              "      <td>1</td>\n",
              "    </tr>\n",
              "    <tr>\n",
              "      <th>1</th>\n",
              "      <td>2</td>\n",
              "    </tr>\n",
              "    <tr>\n",
              "      <th>2</th>\n",
              "      <td>3</td>\n",
              "    </tr>\n",
              "    <tr>\n",
              "      <th>3</th>\n",
              "      <td>4</td>\n",
              "    </tr>\n",
              "    <tr>\n",
              "      <th>4</th>\n",
              "      <td>5</td>\n",
              "    </tr>\n",
              "    <tr>\n",
              "      <th>5</th>\n",
              "      <td>6</td>\n",
              "    </tr>\n",
              "    <tr>\n",
              "      <th>6</th>\n",
              "      <td>7</td>\n",
              "    </tr>\n",
              "    <tr>\n",
              "      <th>7</th>\n",
              "      <td>8</td>\n",
              "    </tr>\n",
              "    <tr>\n",
              "      <th>8</th>\n",
              "      <td>9</td>\n",
              "    </tr>\n",
              "    <tr>\n",
              "      <th>9</th>\n",
              "      <td>10</td>\n",
              "    </tr>\n",
              "  </tbody>\n",
              "</table>\n",
              "</div><br><label><b>dtype:</b> int64</label>"
            ],
            "text/plain": [
              "0     1\n",
              "1     2\n",
              "2     3\n",
              "3     4\n",
              "4     5\n",
              "5     6\n",
              "6     7\n",
              "7     8\n",
              "8     9\n",
              "9    10\n",
              "Name: Numbers, dtype: int64"
            ]
          },
          "execution_count": 5,
          "metadata": {},
          "output_type": "execute_result"
        }
      ],
      "source": [
        "data[\"Numbers\"]"
      ]
    },
    {
      "cell_type": "code",
      "execution_count": 24,
      "metadata": {
        "colab": {
          "base_uri": "https://localhost:8080/"
        },
        "id": "zQeG-C53EPoz",
        "outputId": "1a49852e-c4c4-4ddc-e6ad-9040703ba0ec"
      },
      "outputs": [
        {
          "name": "stdout",
          "output_type": "stream",
          "text": [
            "odd number: 1\n",
            "1 is not a prime number.\n",
            "1 is not a prime number.\n",
            "***************************\n",
            "Even Number: 2\n",
            "2 is a prime number.\n",
            "***************************\n",
            "odd number: 3\n",
            "3 is a prime number.\n",
            "***************************\n",
            "Even Number: 4\n",
            "4 is not a prime number.\n",
            "***************************\n",
            "odd number: 5\n",
            "5 is a prime number.\n",
            "***************************\n",
            "Even Number: 6\n",
            "6 is not a prime number.\n",
            "***************************\n",
            "odd number: 7\n",
            "7 is a prime number.\n",
            "***************************\n",
            "Even Number: 8\n",
            "8 is not a prime number.\n",
            "***************************\n",
            "odd number: 9\n",
            "9 is not a prime number.\n",
            "***************************\n",
            "Even Number: 10\n",
            "10 is not a prime number.\n",
            "***************************\n",
            "45\n"
          ]
        }
      ],
      "source": [
        "for i in data[\"Numbers\"]:\n",
        "    if i % 2 == 0:\n",
        "        print(f\"Even Number: {i}\")\n",
        "    else:\n",
        "        print(f\"odd number: {i}\")\n",
        "\n",
        "    if i <= 1:\n",
        "      print(f\"{i} is not a prime number.\")\n",
        "    else:\n",
        "      is_prime = True\n",
        "    for j in range(2, i):\n",
        "        if i % j == 0:\n",
        "            is_prime = False\n",
        "            break\n",
        "\n",
        "    if is_prime:\n",
        "        print(f\"{i} is a prime number.\")\n",
        "    else:\n",
        "        print(f\"{i} is not a prime number.\")\n",
        "\n",
        "    print(\"***************************\")\n",
        "\n",
        "sum_of_digits=0\n",
        "for i in range(11):\n",
        "  digit = i % 10  # Get the last digit\n",
        "  sum_of_digits += digit  # Add the digit to the sum\n",
        "  i //= 10\n",
        "\n",
        "print(sum_of_digits)\n"
      ]
    },
    {
      "cell_type": "code",
      "execution_count": 16,
      "metadata": {
        "colab": {
          "base_uri": "https://localhost:8080/"
        },
        "id": "61U3K1-REpRz",
        "outputId": "8120b218-d85c-4e53-f1b8-8426b951ce43"
      },
      "outputs": [
        {
          "data": {
            "text/plain": [
              "10"
            ]
          },
          "execution_count": 16,
          "metadata": {},
          "output_type": "execute_result"
        }
      ],
      "source": [
        "\n",
        "len(data[\"Numbers\"])\n"
      ]
    },
    {
      "cell_type": "code",
      "execution_count": 23,
      "metadata": {
        "colab": {
          "base_uri": "https://localhost:8080/"
        },
        "id": "HWfQMsgSI3WM",
        "outputId": "656e03ea-0a13-4642-f1b2-33eba54df2ba"
      },
      "outputs": [
        {
          "name": "stdout",
          "output_type": "stream",
          "text": [
            "47\n"
          ]
        }
      ],
      "source": []
    },
    {
      "cell_type": "code",
      "execution_count": null,
      "metadata": {
        "id": "b9utrDWSLhpV"
      },
      "outputs": [],
      "source": []
    }
  ],
  "metadata": {
    "colab": {
      "provenance": []
    },
    "kernelspec": {
      "display_name": "Python 3",
      "name": "python3"
    },
    "language_info": {
      "name": "python"
    }
  },
  "nbformat": 4,
  "nbformat_minor": 0
}
